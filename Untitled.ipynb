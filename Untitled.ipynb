{
 "cells": [
  {
   "cell_type": "code",
   "execution_count": 1,
   "id": "7d67672e",
   "metadata": {},
   "outputs": [],
   "source": [
    "import pandas as pd \n",
    "import numpy as np"
   ]
  },
  {
   "cell_type": "code",
   "execution_count": 77,
   "id": "39104be0",
   "metadata": {},
   "outputs": [],
   "source": [
    "train_data = pd.read_csv('./UNSW_NB15_training-set.csv', index_col = False).drop(['id'], axis=1)\n",
    "test_data = pd.read_csv('./UNSW_NB15_testing-set.csv', index_col = False).drop(['id'], axis=1)\n",
    "\n",
    "normal_data = train_data[train_data['label'] == 0]\n",
    "anomal_data = train_data[train_data['label'] != 0]\n",
    "\n",
    "normal_data_str = normal_data[['proto', 'service', 'state']]\n",
    "normal_data = normal_data.drop(['proto', 'service', 'state', 'attack_cat', 'label'], axis = 1)\n",
    "normal_data /= normal_data.max()/255.0\n",
    "normal_data = pd.concat([normal_data, normal_data_str], axis=1)\n",
    "\n",
    "anomal_data_str = anomal_data[['proto', 'service', 'state', 'attack_cat']]\n",
    "anomal_data = anomal_data.drop(['proto', 'service', 'state', 'attack_cat', 'label'], axis = 1)\n",
    "anomal_data /= anomal_data.max()/255.0\n",
    "anomal_data = pd.concat([anomal_data, anomal_data_str], axis=1)\n",
    "\n",
    "normal_data.to_csv('./Normalized_normal_train.csv')\n",
    "anomal_data.to_csv('./Normalized_anomal_train.csv')"
   ]
  },
  {
   "cell_type": "code",
   "execution_count": 85,
   "id": "ac2ef468",
   "metadata": {},
   "outputs": [],
   "source": [
    "test_normal_data = test_data[test_data['label'] == 0]\n",
    "test_anomal_data = test_data[test_data['label'] != 0]\n",
    "\n",
    "test_normal_data_str = test_normal_data[['proto', 'service', 'state']]\n",
    "test_normal_data = test_normal_data.drop(['proto', 'service', 'state', 'attack_cat', 'label'], axis = 1)\n",
    "test_normal_data /= test_normal_data.max()/255.0\n",
    "test_normal_data = pd.concat([test_normal_data, test_normal_data_str], axis=1)\n",
    "\n",
    "test_anomal_data_str = test_anomal_data[['proto', 'service', 'state', 'attack_cat']]\n",
    "test_anomal_data = test_anomal_data.drop(['proto', 'service', 'state', 'attack_cat', 'label'], axis = 1)\n",
    "test_anomal_data /= test_anomal_data.max()/255.0\n",
    "test_anomal_data = pd.concat([test_anomal_data, test_anomal_data_str], axis=1)\n",
    "\n",
    "test_normal_data.to_csv('./Normalized_normal_test.csv')\n",
    "test_anomal_data.to_csv('./Normalized_anomal_test.csv')"
   ]
  }
 ],
 "metadata": {
  "kernelspec": {
   "display_name": "Python 3",
   "language": "python",
   "name": "python3"
  },
  "language_info": {
   "codemirror_mode": {
    "name": "ipython",
    "version": 3
   },
   "file_extension": ".py",
   "mimetype": "text/x-python",
   "name": "python",
   "nbconvert_exporter": "python",
   "pygments_lexer": "ipython3",
   "version": "3.8.8"
  }
 },
 "nbformat": 4,
 "nbformat_minor": 5
}
