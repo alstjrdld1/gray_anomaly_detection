{
 "cells": [
  {
   "cell_type": "code",
   "execution_count": 1,
   "id": "dd8619a1",
   "metadata": {},
   "outputs": [],
   "source": [
    "import pandas as pd \n",
    "import numpy as np"
   ]
  },
  {
   "cell_type": "code",
   "execution_count": 101,
   "id": "abdbcf9f",
   "metadata": {},
   "outputs": [],
   "source": [
    "train_data = pd.read_csv('./UNSW_NB15_training-set.csv', index_col = False).drop(['id'], axis=1)\n",
    "test_data = pd.read_csv('./UNSW_NB15_testing-set.csv', index_col = False).drop(['id'], axis=1)\n",
    "\n",
    "normal_data = train_data[train_data['label'] == 0]\n",
    "anomal_data = train_data[train_data['label'] != 0]\n",
    "\n",
    "normal_data_str = normal_data[['proto', 'service', 'state']]\n",
    "normal_data = normal_data.drop(['proto', 'service', 'state', 'attack_cat', 'label'], axis = 1)\n",
    "# normal_data /= normal_data.max()/255.0\n",
    "# normal_data[normal_data < 1] = 0\n",
    "normal_data = pd.concat([normal_data, normal_data_str], axis=1)\n",
    "\n",
    "anomal_data_str = anomal_data[['proto', 'service', 'state', 'attack_cat']]\n",
    "anomal_data = anomal_data.drop(['proto', 'service', 'state', 'attack_cat', 'label'], axis = 1)\n",
    "# anomal_data /= anomal_data.max()/255.0\n",
    "# anomal_data[anomal_data < 1] = 0\n",
    "anomal_data = pd.concat([anomal_data, anomal_data_str], axis=1)\n",
    "\n",
    "normal_data.to_csv('./Normalized_normal_train.csv')\n",
    "anomal_data.to_csv('./Normalized_anomal_train.csv')"
   ]
  },
  {
   "cell_type": "code",
   "execution_count": 102,
   "id": "ef0d8655",
   "metadata": {},
   "outputs": [],
   "source": [
    "test_normal_data = test_data[test_data['label'] == 0]\n",
    "test_anomal_data = test_data[test_data['label'] != 0]\n",
    "\n",
    "test_normal_data_str = test_normal_data[['proto', 'service', 'state']]\n",
    "test_normal_data = test_normal_data.drop(['proto', 'service', 'state', 'attack_cat', 'label'], axis = 1)\n",
    "# test_normal_data /= test_normal_data.max()/255.0\n",
    "# test_normal_data[test_normal_data < 1] = 0\n",
    "test_normal_data = pd.concat([test_normal_data, test_normal_data_str], axis=1)\n",
    "\n",
    "test_anomal_data_str = test_anomal_data[['proto', 'service', 'state', 'attack_cat']]\n",
    "test_anomal_data = test_anomal_data.drop(['proto', 'service', 'state', 'attack_cat', 'label'], axis = 1)\n",
    "# test_anomal_data /= test_anomal_data.max()/255.0\n",
    "# test_anomal_data[test_anomal_data < 1] = 0\n",
    "test_anomal_data = pd.concat([test_anomal_data, test_anomal_data_str], axis=1)\n",
    "\n",
    "test_normal_data.to_csv('./Normalized_normal_test.csv')\n",
    "test_anomal_data.to_csv('./Normalized_anomal_test.csv')"
   ]
  },
  {
   "cell_type": "code",
   "execution_count": 92,
   "id": "4774dbd0",
   "metadata": {},
   "outputs": [
    {
     "name": "stdout",
     "output_type": "stream",
     "text": [
      "dur                  5.999999e+01\n",
      "spkts                1.064600e+04\n",
      "dpkts                1.101800e+04\n",
      "sbytes               1.435577e+07\n",
      "dbytes               1.465753e+07\n",
      "rate                 1.000000e+06\n",
      "sttl                 2.550000e+02\n",
      "dttl                 2.530000e+02\n",
      "sload                5.268000e+09\n",
      "dload                2.082111e+07\n",
      "sloss                5.319000e+03\n",
      "dloss                5.507000e+03\n",
      "sinpkt               6.000999e+04\n",
      "dinpkt               5.773924e+04\n",
      "sjit                 1.483831e+06\n",
      "djit                 4.631992e+05\n",
      "swin                 2.550000e+02\n",
      "stcpb                4.294950e+09\n",
      "dtcpb                4.294881e+09\n",
      "dwin                 2.550000e+02\n",
      "tcprtt               3.821465e+00\n",
      "synack               3.226788e+00\n",
      "ackdat               2.928778e+00\n",
      "smean                1.504000e+03\n",
      "dmean                1.500000e+03\n",
      "trans_depth          1.310000e+02\n",
      "response_body_len    5.242880e+06\n",
      "ct_srv_src           6.300000e+01\n",
      "ct_state_ttl         6.000000e+00\n",
      "ct_dst_ltm           5.900000e+01\n",
      "ct_src_dport_ltm     5.900000e+01\n",
      "ct_dst_sport_ltm     3.800000e+01\n",
      "ct_dst_src_ltm       6.300000e+01\n",
      "is_ftp_login         2.000000e+00\n",
      "ct_ftp_cmd           2.000000e+00\n",
      "ct_flw_http_mthd     1.600000e+01\n",
      "ct_src_ltm           6.000000e+01\n",
      "ct_srv_dst           6.200000e+01\n",
      "is_sm_ips_ports      1.000000e+00\n",
      "dtype: float64\n"
     ]
    }
   ],
   "source": [
    "train_data = pd.read_csv('./UNSW_NB15_training-set.csv', index_col = False).drop(['id'], axis=1)\n",
    "test_data = pd.read_csv('./UNSW_NB15_testing-set.csv', index_col = False).drop(['id'], axis=1)\n",
    "\n",
    "no_str = train_data.drop(['proto', 'service', 'state', 'attack_cat', 'label'], axis = 1)\n",
    "print(no_str.max())"
   ]
  },
  {
   "cell_type": "code",
   "execution_count": 93,
   "id": "06a6612a",
   "metadata": {},
   "outputs": [
    {
     "name": "stdout",
     "output_type": "stream",
     "text": [
      "dur                   0.0\n",
      "spkts                 1.0\n",
      "dpkts                 0.0\n",
      "sbytes               24.0\n",
      "dbytes                0.0\n",
      "rate                  0.0\n",
      "sttl                  0.0\n",
      "dttl                  0.0\n",
      "sload                 0.0\n",
      "dload                 0.0\n",
      "sloss                 0.0\n",
      "dloss                 0.0\n",
      "sinpkt                0.0\n",
      "dinpkt                0.0\n",
      "sjit                  0.0\n",
      "djit                  0.0\n",
      "swin                  0.0\n",
      "stcpb                 0.0\n",
      "dtcpb                 0.0\n",
      "dwin                  0.0\n",
      "tcprtt                0.0\n",
      "synack                0.0\n",
      "ackdat                0.0\n",
      "smean                24.0\n",
      "dmean                 0.0\n",
      "trans_depth           0.0\n",
      "response_body_len     0.0\n",
      "ct_srv_src            1.0\n",
      "ct_state_ttl          0.0\n",
      "ct_dst_ltm            1.0\n",
      "ct_src_dport_ltm      1.0\n",
      "ct_dst_sport_ltm      1.0\n",
      "ct_dst_src_ltm        1.0\n",
      "is_ftp_login          0.0\n",
      "ct_ftp_cmd            0.0\n",
      "ct_flw_http_mthd      0.0\n",
      "ct_src_ltm            1.0\n",
      "ct_srv_dst            1.0\n",
      "is_sm_ips_ports       0.0\n",
      "dtype: float64\n"
     ]
    }
   ],
   "source": [
    "print(no_str.min())\n"
   ]
  },
  {
   "cell_type": "code",
   "execution_count": 94,
   "id": "432e4c8c",
   "metadata": {},
   "outputs": [
    {
     "data": {
      "text/plain": [
       "dur                  255.0\n",
       "spkts                255.0\n",
       "dpkts                255.0\n",
       "sbytes               255.0\n",
       "dbytes               255.0\n",
       "rate                 255.0\n",
       "sttl                 255.0\n",
       "dttl                 255.0\n",
       "sload                255.0\n",
       "dload                255.0\n",
       "sloss                255.0\n",
       "dloss                255.0\n",
       "sinpkt               255.0\n",
       "dinpkt               255.0\n",
       "sjit                 255.0\n",
       "djit                 255.0\n",
       "swin                 255.0\n",
       "stcpb                255.0\n",
       "dtcpb                255.0\n",
       "dwin                 255.0\n",
       "tcprtt               255.0\n",
       "synack               255.0\n",
       "ackdat               255.0\n",
       "smean                255.0\n",
       "dmean                255.0\n",
       "trans_depth          255.0\n",
       "response_body_len    255.0\n",
       "ct_srv_src           255.0\n",
       "ct_state_ttl         255.0\n",
       "ct_dst_ltm           255.0\n",
       "ct_src_dport_ltm     255.0\n",
       "ct_dst_sport_ltm     255.0\n",
       "ct_dst_src_ltm       255.0\n",
       "is_ftp_login         255.0\n",
       "ct_ftp_cmd           255.0\n",
       "ct_flw_http_mthd     255.0\n",
       "ct_src_ltm           255.0\n",
       "ct_srv_dst           255.0\n",
       "is_sm_ips_ports      255.0\n",
       "proto                  udp\n",
       "service                ssh\n",
       "state                  RST\n",
       "dtype: object"
      ]
     },
     "execution_count": 94,
     "metadata": {},
     "output_type": "execute_result"
    }
   ],
   "source": [
    "normal_data.max()"
   ]
  },
  {
   "cell_type": "code",
   "execution_count": 95,
   "id": "748805f0",
   "metadata": {},
   "outputs": [
    {
     "data": {
      "text/plain": [
       "dur                        0.0\n",
       "spkts                 0.369565\n",
       "dpkts                      0.0\n",
       "sbytes                0.034592\n",
       "dbytes                     0.0\n",
       "rate                       0.0\n",
       "sttl                       0.0\n",
       "dttl                       0.0\n",
       "sload                      0.0\n",
       "dload                      0.0\n",
       "sloss                      0.0\n",
       "dloss                      0.0\n",
       "sinpkt                     0.0\n",
       "dinpkt                     0.0\n",
       "sjit                       0.0\n",
       "djit                       0.0\n",
       "swin                       0.0\n",
       "stcpb                      0.0\n",
       "dtcpb                      0.0\n",
       "dwin                       0.0\n",
       "tcprtt                     0.0\n",
       "synack                     0.0\n",
       "ackdat                     0.0\n",
       "smean                     4.76\n",
       "dmean                      0.0\n",
       "trans_depth                0.0\n",
       "response_body_len          0.0\n",
       "ct_srv_src            5.204082\n",
       "ct_state_ttl               0.0\n",
       "ct_dst_ltm              5.3125\n",
       "ct_src_dport_ltm     14.166667\n",
       "ct_dst_sport_ltm         63.75\n",
       "ct_dst_src_ltm          5.3125\n",
       "is_ftp_login               0.0\n",
       "ct_ftp_cmd                 0.0\n",
       "ct_flw_http_mthd           0.0\n",
       "ct_src_ltm            6.219512\n",
       "ct_srv_dst              5.3125\n",
       "is_sm_ips_ports            0.0\n",
       "proto                      arp\n",
       "service                      -\n",
       "state                      ACC\n",
       "dtype: object"
      ]
     },
     "execution_count": 95,
     "metadata": {},
     "output_type": "execute_result"
    }
   ],
   "source": [
    "normal_data.min()"
   ]
  },
  {
   "cell_type": "code",
   "execution_count": 97,
   "id": "11040513",
   "metadata": {},
   "outputs": [],
   "source": [
    "train_data = pd.read_csv('./UNSW_NB15_training-set.csv', index_col = False).drop(['id'], axis=1)\n",
    "test_data = pd.read_csv('./UNSW_NB15_testing-set.csv', index_col = False).drop(['id'], axis=1)\n",
    "\n",
    "normal_data = train_data[train_data['label'] == 0]\n",
    "anomal_data = train_data[train_data['label'] != 0]\n",
    "\n",
    "normal_data_str = normal_data[['proto', 'service', 'state']]\n",
    "normal_data = normal_data.drop(['proto', 'service', 'state', 'attack_cat', 'label'], axis = 1)\n",
    "normal_data /= normal_data.max()/255.0\n",
    "\n",
    "normal_data[normal_data < 1] = 0\n",
    "normal_data = pd.concat([normal_data, normal_data_str], axis=1)\n",
    "\n",
    "anomal_data_str = anomal_data[['proto', 'service', 'state', 'attack_cat']]\n",
    "anomal_data = anomal_data.drop(['proto', 'service', 'state', 'attack_cat', 'label'], axis = 1)\n",
    "anomal_data /= anomal_data.max()/255.0\n",
    "anomal_data = pd.concat([anomal_data, anomal_data_str], axis=1)\n",
    "\n",
    "normal_data.to_csv('./Normalized_normal_train.csv')\n",
    "anomal_data.to_csv('./Normalized_anomal_train.csv')"
   ]
  },
  {
   "cell_type": "code",
   "execution_count": 1,
   "id": "55e1cc7b",
   "metadata": {},
   "outputs": [
    {
     "name": "stdout",
     "output_type": "stream",
     "text": [
      "[0.95504329 0.71591149 0.69888079 0.95795403 0.95377626 0.93880591\n",
      " 0.93250501 0.95036327 0.95309709 0.95196133 0.95202411 0.95169879\n",
      " 0.95470085 0.95560832 0.95361646 0.95468373 0.95410729 0.95286879\n",
      " 0.9545068  0.95538002 0.95241221 0.9548207  0.95492914 0.95400455\n",
      " 0.95462665 0.95516885 0.95407875 0.95586515 0.9546609  0.95526588]\n"
     ]
    }
   ],
   "source": [
    "import numpy as np \n",
    "acc_list = np.load('./code/20220603_acclist.npy')\n",
    "print(acc_list)"
   ]
  },
  {
   "cell_type": "code",
   "execution_count": 2,
   "id": "7163c140",
   "metadata": {},
   "outputs": [
    {
     "data": {
      "text/plain": [
       "[<matplotlib.lines.Line2D at 0x2d7faed0eb0>]"
      ]
     },
     "execution_count": 2,
     "metadata": {},
     "output_type": "execute_result"
    },
    {
     "data": {
      "image/png": "[encoded data removed]",
      "text/plain": [
       "<Figure size 432x288 with 1 Axes>"
      ]
     },
     "metadata": {
      "needs_background": "light"
     },
     "output_type": "display_data"
    }
   ],
   "source": [
    "\n",
    "plt.plot(acc_list)"
   ]
  },
  {
   "cell_type": "code",
   "execution_count": 5,
   "id": "e9a4ad7b",
   "metadata": {},
   "outputs": [],
   "source": [
    "grayLoss = np.load('./code/graytraining_loss.npy')\n",
    "binaryLoss = np.load('./code/binarytraining_loss.npy')\n",
    "originLoss = np.load('./code/origintraining_loss.npy')"
   ]
  },
  {
   "cell_type": "code",
   "execution_count": 17,
   "id": "17cb080a",
   "metadata": {},
   "outputs": [
    {
     "data": {
      "image/png": "[encoded data removed]",
      "text/plain": [
       "<Figure size 432x288 with 1 Axes>"
      ]
     },
     "metadata": {
      "needs_background": "light"
     },
     "output_type": "display_data"
    }
   ],
   "source": [
    "import matplotlib.pyplot as plt \n",
    "x = np.arange(len(grayLoss))\n",
    "\n",
    "plt.title('Losses for proposed methods')\n",
    "plt.xlabel('Epochs')\n",
    "plt.ylabel('Loss')\n",
    "\n",
    "plt.plot(grayLoss,label='GrayLoss')\n",
    "plt.plot(binaryLoss,label='BinaryLoss')\n",
    "plt.plot(originLoss,label='OriginLoss')\n",
    "plt.legend()\n",
    "plt.show()"
   ]
  },
  {
   "cell_type": "code",
   "execution_count": 6,
   "id": "5a46882d",
   "metadata": {},
   "outputs": [
    {
     "data": {
      "text/plain": [
       "[<matplotlib.lines.Line2D at 0x297095c4cd0>]"
      ]
     },
     "execution_count": 6,
     "metadata": {},
     "output_type": "execute_result"
    },
    {
     "data": {
      "image/png": "[encoded data removed]",
      "text/plain": [
       "<Figure size 432x288 with 1 Axes>"
      ]
     },
     "metadata": {
      "needs_background": "light"
     },
     "output_type": "display_data"
    }
   ],
   "source": [
    "plt.plot(binaryLoss)"
   ]
  },
  {
   "cell_type": "code",
   "execution_count": 7,
   "id": "aa990215",
   "metadata": {},
   "outputs": [
    {
     "data": {
      "text/plain": [
       "[<matplotlib.lines.Line2D at 0x29709626ac0>]"
      ]
     },
     "execution_count": 7,
     "metadata": {},
     "output_type": "execute_result"
    },
    {
     "data": {
      "image/png": "[encoded data removed]",
      "text/plain": [
       "<Figure size 432x288 with 1 Axes>"
      ]
     },
     "metadata": {
      "needs_background": "light"
     },
     "output_type": "display_data"
    }
   ],
   "source": [
    "plt.plot(originLoss)"
   ]
  },
  {
   "cell_type": "code",
   "execution_count": 11,
   "id": "c8b42f1e",
   "metadata": {},
   "outputs": [],
   "source": [
    "grayAcc = np.load('./code/20220618_gray_ACC_List.npy')\n",
    "binaryAcc = np.load('./code/20220618_binary_ACC_List.npy')"
   ]
  },
  {
   "cell_type": "code",
   "execution_count": 12,
   "id": "ab7b6b06",
   "metadata": {},
   "outputs": [
    {
     "data": {
      "text/plain": [
       "[<matplotlib.lines.Line2D at 0x29709a97b50>]"
      ]
     },
     "execution_count": 12,
     "metadata": {},
     "output_type": "execute_result"
    },
    {
     "data": {
      "image/png": "[encoded data removed]",
      "text/plain": [
       "<Figure size 432x288 with 1 Axes>"
      ]
     },
     "metadata": {
      "needs_background": "light"
     },
     "output_type": "display_data"
    }
   ],
   "source": [
    "plt.plot(grayAcc)"
   ]
  },
  {
   "cell_type": "code",
   "execution_count": 13,
   "id": "e1fc21e6",
   "metadata": {},
   "outputs": [
    {
     "data": {
      "text/plain": [
       "[<matplotlib.lines.Line2D at 0x29709af4310>]"
      ]
     },
     "execution_count": 13,
     "metadata": {},
     "output_type": "execute_result"
    },
    {
     "data": {
      "image/png": "[encoded data removed]",
      "text/plain": [
       "<Figure size 432x288 with 1 Axes>"
      ]
     },
     "metadata": {
      "needs_background": "light"
     },
     "output_type": "display_data"
    }
   ],
   "source": [
    "plt.plot(binaryAcc)"
   ]
  },
  {
   "cell_type": "code",
   "execution_count": null,
   "id": "ef7ef664",
   "metadata": {},
   "outputs": [],
   "source": []
  }
 ],
 "metadata": {
  "kernelspec": {
   "display_name": "Python 3",
   "language": "python",
   "name": "python3"
  },
  "language_info": {
   "codemirror_mode": {
    "name": "ipython",
    "version": 3
   },
   "file_extension": ".py",
   "mimetype": "text/x-python",
   "name": "python",
   "nbconvert_exporter": "python",
   "pygments_lexer": "ipython3",
   "version": "3.8.8"
  }
 },
 "nbformat": 4,
 "nbformat_minor": 5
}
